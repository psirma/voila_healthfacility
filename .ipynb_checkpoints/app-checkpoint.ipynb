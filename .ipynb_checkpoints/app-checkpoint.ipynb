{
 "cells": [
  {
   "cell_type": "markdown",
   "metadata": {},
   "source": [
    "## Zambia\n",
    "\n",
    "### The map below shows locations of households (in blue markers) & health facilities (in green markers)\n"
   ]
  },
  {
   "cell_type": "code",
   "execution_count": 1,
   "metadata": {},
   "outputs": [],
   "source": [
    "import folium\n",
    "from folium.plugins import MarkerCluster , FastMarkerCluster\n",
    "import pandas as pd\n",
    "from folium import Marker"
   ]
  },
  {
   "cell_type": "code",
   "execution_count": 2,
   "metadata": {},
   "outputs": [],
   "source": [
    "og_data = pd.read_stata('Merged_HF_SUN08June2020.dta')\n",
    "og_data.columns = og_data.columns.str.strip() #some column names have some padding\n",
    "og_data = og_data.dropna()"
   ]
  },
  {
   "cell_type": "code",
   "execution_count": null,
   "metadata": {},
   "outputs": [],
   "source": [
    "# Mapping lat and long\n",
    "zambia_coords = [-19.1403507 , 28.8493049]\n",
    "zambia_map = folium.Map(location = zambia_coords, zoom_start = 5, tiles='Stamen Toner')\n",
    "\n",
    "marker_cluster = MarkerCluster().add_to(zambia_map)\n",
    "\n",
    "folium.TileLayer('openstreetmap').add_to(zambia_map)\n",
    "folium.TileLayer('Stamen Terrain').add_to(zambia_map)\n",
    "folium.TileLayer('Stamen Toner').add_to(zambia_map)\n",
    "folium.TileLayer('cartodbpositron').add_to(zambia_map)\n",
    "folium.LayerControl().add_to(zambia_map)\n",
    "\n",
    "\n",
    "\n",
    "for index, row in og_data.iterrows():    \n",
    "#     Household locations\n",
    "    folium.Marker(\n",
    "        location=(row[\"GPSC__Latitude\"],row[\"GPSC__Longitude\"]),\n",
    "        fill=False, \n",
    "        popup = (\n",
    "            \"Province: {PROV}<br>\"\n",
    "            \"District: {DIST}<br>\"\n",
    "            \"Ward: {WARD}<br>\"\n",
    "        ).format(\n",
    "            PROV = row[\"PROV\"],\n",
    "            DIST = row[\"DIST\"],\n",
    "            WARD = row[\"WARD\"]\n",
    "        )\n",
    "    ).add_to(marker_cluster)\n",
    "\n",
    "#     Health facility locations\n",
    "    folium.Marker(\n",
    "        location=(row[\"facility_latitude\"],row[\"facility_longitude\"]),\n",
    "        icon= folium.Icon(icon='h-square', prefix='fa', color='green'),\n",
    "        fill=False, \n",
    "        popup = (\n",
    "            \"Province: {Province}<br>\"\n",
    "            \"District: {DIST_HF}<br>\"\n",
    "            \"Ward: {WARD_HF}<br>\"\n",
    "        ).format(\n",
    "            Province = row[\"Province\"],\n",
    "            DIST_HF = row[\"DIST\"],\n",
    "            WARD_HF = row[\"clean_ward\"]\n",
    "        )\n",
    "    ).add_to(marker_cluster)\n",
    "\n",
    "zambia_map"
   ]
  },
  {
   "cell_type": "code",
   "execution_count": null,
   "metadata": {},
   "outputs": [],
   "source": []
  }
 ],
 "metadata": {
  "kernelspec": {
   "display_name": "Python 3",
   "language": "python",
   "name": "python3"
  },
  "language_info": {
   "codemirror_mode": {
    "name": "ipython",
    "version": 3
   },
   "file_extension": ".py",
   "mimetype": "text/x-python",
   "name": "python",
   "nbconvert_exporter": "python",
   "pygments_lexer": "ipython3",
   "version": "3.8.3"
  }
 },
 "nbformat": 4,
 "nbformat_minor": 4
}
